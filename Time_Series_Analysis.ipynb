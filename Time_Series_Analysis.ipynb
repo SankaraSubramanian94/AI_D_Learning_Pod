{
  "nbformat": 4,
  "nbformat_minor": 0,
  "metadata": {
    "colab": {
      "name": "Time-Series-Analysis.ipynb",
      "provenance": [],
      "collapsed_sections": [],
      "authorship_tag": "ABX9TyMwDfbWiJRetJ+F0CZlc6Xc",
      "include_colab_link": true
    },
    "kernelspec": {
      "name": "python3",
      "display_name": "Python 3"
    },
    "language_info": {
      "name": "python"
    }
  },
  "cells": [
    {
      "cell_type": "markdown",
      "metadata": {
        "id": "view-in-github",
        "colab_type": "text"
      },
      "source": [
        "<a href=\"https://colab.research.google.com/github/SankaraSubramanian94/AI_D_Learning_Pod/blob/main/Time_Series_Analysis.ipynb\" target=\"_parent\"><img src=\"https://colab.research.google.com/assets/colab-badge.svg\" alt=\"Open In Colab\"/></a>"
      ]
    },
    {
      "cell_type": "markdown",
      "source": [
        "## **1.How to import time-series data in Python?**"
      ],
      "metadata": {
        "id": "WGXxR8FNbDB_"
      }
    },
    {
      "cell_type": "markdown",
      "source": [
        "# **Time Series Analysis using Python**"
      ],
      "metadata": {
        "id": "UGgY2TIpa5ms"
      }
    },
    {
      "cell_type": "code",
      "execution_count": null,
      "metadata": {
        "id": "xl0GLL2IaMlH"
      },
      "outputs": [],
      "source": [
        "from dateutil.parser import parse\n",
        "import matplotlib as mpl\n",
        "import matplotlib.pyplot as plt\n",
        "import seaborn as sns\n",
        "import numpy as np\n",
        "import pandas as pd\n",
        "from statsmodels.tsa.seasonal import seasonal_decompose\n",
        "plt.rcParams.update({'figure.figsize': (10, 7), 'figure.dpi': 120})"
      ]
    },
    {
      "cell_type": "code",
      "source": [
        "# CSV is first read in from a github raw file another option is to import the notebook to your session storage by click on the file icon on left toolbar then importing csv\n",
        "! wget https://raw.githubusercontent.com/selva86/datasets/master/a10.csv"
      ],
      "metadata": {
        "id": "e18UxUS1bLNj"
      },
      "execution_count": null,
      "outputs": []
    },
    {
      "cell_type": "code",
      "source": [
        "# Once we have the csv file pd.read_csv() converts it to a pandas dataframe\n",
        "df = pd.read_csv('a10.csv')\n",
        "df.head()"
      ],
      "metadata": {
        "id": "sonmk6MsbRTP"
      },
      "execution_count": null,
      "outputs": []
    },
    {
      "cell_type": "code",
      "source": [
        "# Make Date field as index column\n",
        "ser = pd.read_csv('https://raw.githubusercontent.com/selva86/datasets/master/a10.csv', parse_dates=['date'], index_col='date')\n",
        "ser.head()"
      ],
      "metadata": {
        "id": "mWfBOaDtbZRF"
      },
      "execution_count": null,
      "outputs": []
    },
    {
      "cell_type": "markdown",
      "source": [
        "## **2.Visualize a time series**"
      ],
      "metadata": {
        "id": "lf38pp85cQQ9"
      }
    },
    {
      "cell_type": "code",
      "source": [
        "# Draw Plot\n",
        "def plot_df(df, x, y, title=\"\", xlabel='Date', ylabel='Value', dpi=100):\n",
        "    plt.figure(figsize=(16,5), dpi=dpi)\n",
        "    plt.plot(x, y, color='tab:blue')\n",
        "    plt.gca().set(title=title, xlabel=xlabel, ylabel=ylabel)\n",
        "    plt.show()\n",
        "\n",
        "plot_df(df, x=df.index, y=df.value, title='Monthly Anti-Diabetic Drug Sales in Australia from 1992 to 2008.')    "
      ],
      "metadata": {
        "id": "NEf_BfN3bnlf"
      },
      "execution_count": null,
      "outputs": []
    },
    {
      "cell_type": "markdown",
      "source": [
        "## **3.Seasonal Plot of a Time Series**"
      ],
      "metadata": {
        "id": "mmvRvQo1c-eX"
      }
    },
    {
      "cell_type": "code",
      "source": [
        "# Split Year and month from data\n",
        "df = pd.read_csv('a10.csv', parse_dates=['date'], index_col='date')\n",
        "df.reset_index(inplace=True)\n",
        "df['year'] = [d.year for d in df.date]\n",
        "df['month'] = [d.strftime('%b') for d in df.date]\n",
        "years = df['year'].unique()\n",
        "\n",
        "# Prep Colors\n",
        "np.random.seed(100)\n",
        "mycolors = np.random.choice(list(mpl.colors.XKCD_COLORS.keys()), len(years), replace=False)\n",
        "\n",
        "# Draw Plot\n",
        "plt.figure(figsize=(16,12), dpi= 60)\n",
        "for i, y in enumerate(years):\n",
        "    if i > 0:        \n",
        "        plt.plot('month', 'value', data=df.loc[df.year==y, :], color=mycolors[i], label=y)\n",
        "        plt.text(df.loc[df.year==y, :].shape[0]-0.9, df.loc[df.year==y, 'value'][-1:].values[0], y, fontsize=15, color=mycolors[i])\n",
        "\n",
        "\n",
        "# Decoration\n",
        "plt.gca().set(xlim=(-0.3, 11), ylim=(2, 30), ylabel='$Drug Sales$', xlabel='$Month$')\n",
        "plt.yticks(fontsize=12, alpha=.5)\n",
        "plt.title(\"Seasonal Plot of Drug Sales Time Series\", fontsize=20)\n",
        "plt.show()"
      ],
      "metadata": {
        "id": "rUBkP2FMch5A"
      },
      "execution_count": null,
      "outputs": []
    },
    {
      "cell_type": "markdown",
      "source": [
        "## **4.Seasonal and Trend Plot of a Time Series**"
      ],
      "metadata": {
        "id": "TdVUtTFsPk12"
      }
    },
    {
      "cell_type": "code",
      "source": [
        " #Import Data\n",
        "df = pd.read_csv('a10.csv', parse_dates=['date'], index_col='date')\n",
        "df.reset_index(inplace=True)\n",
        "\n",
        "# Prepare data\n",
        "df['year'] = [d.year for d in df.date]\n",
        "df['month'] = [d.strftime('%b') for d in df.date]\n",
        "years = df['year'].unique()\n",
        "\n",
        "# Draw Plot\n",
        "fig, axes = plt.subplots(1, 2, figsize=(20,7), dpi= 80)\n",
        "sns.boxplot(x='year', y='value', data=df, ax=axes[0])\n",
        "sns.boxplot(x='month', y='value', data=df.loc[~df.year.isin([1991, 2008]), :])\n",
        "\n",
        "# Set Title\n",
        "axes[0].set_title('Year-wise Box Plot\\n(The Trend)', fontsize=15); \n",
        "axes[1].set_title('Month-wise Box Plot\\n(The Seasonality)', fontsize=15)\n",
        "plt.show()"
      ],
      "metadata": {
        "id": "Q0ymW5nIu9pv"
      },
      "execution_count": null,
      "outputs": []
    },
    {
      "cell_type": "markdown",
      "source": [
        "## **5.Patterns in a Time Series**"
      ],
      "metadata": {
        "id": "r7WbFad6RbMg"
      }
    },
    {
      "cell_type": "code",
      "source": [
        "fig, axes = plt.subplots(1,3, figsize=(20,4), dpi=100)\n",
        "\n",
        "pd.read_csv('https://raw.githubusercontent.com/selva86/datasets/master/guinearice.csv', parse_dates=['date'], index_col='date').plot(title='Trend Only', legend=False, ax=axes[0])\n",
        "\n",
        "pd.read_csv('https://raw.githubusercontent.com/selva86/datasets/master/sunspotarea.csv', parse_dates=['date'], index_col='date').plot(title='Seasonality Only', legend=False, ax=axes[1])\n",
        "\n",
        "pd.read_csv('https://raw.githubusercontent.com/selva86/datasets/master/AirPassengers.csv', parse_dates=['date'], index_col='date').plot(title='Trend and Seasonality', legend=False, ax=axes[2])"
      ],
      "metadata": {
        "id": "SUbxswiDP14G"
      },
      "execution_count": null,
      "outputs": []
    },
    {
      "cell_type": "markdown",
      "source": [
        "## **6.Additive and Multiplicative time series**"
      ],
      "metadata": {
        "id": "BKXDerGzR8Wl"
      }
    },
    {
      "cell_type": "code",
      "source": [
        "# Import Data\n",
        "df = pd.read_csv('a10.csv', parse_dates=['date'], index_col='date')\n",
        "\n",
        "# Multiplicative Decomposition \n",
        "result_mul = seasonal_decompose(df['value'], model='multiplicative', extrapolate_trend='freq')\n",
        "\n",
        "# Plot\n",
        "plt.rcParams.update({'figure.figsize': (5,10)})\n",
        "result_mul.plot().suptitle('Multiplicative Decompose', fontsize=10)\n",
        "plt.show()"
      ],
      "metadata": {
        "id": "jQ9Km3HsRxCe"
      },
      "execution_count": null,
      "outputs": []
    },
    {
      "cell_type": "code",
      "source": [
        "# Extract the Components\n",
        "# Actual Values = Product of (Seasonal * Trend * Resid)\n",
        "df_reconstructed = pd.concat([result_mul.seasonal, result_mul.trend, result_mul.resid, result_mul.observed], axis=1)\n",
        "df_reconstructed.columns = ['seas', 'trend', 'resid', 'actual_values']\n",
        "df_reconstructed.head()"
      ],
      "metadata": {
        "id": "K27Lz2ZHSo1Q"
      },
      "execution_count": null,
      "outputs": []
    },
    {
      "cell_type": "code",
      "source": [
        "# Additive Decomposition\n",
        "result_add = seasonal_decompose(df['value'], model='additive', extrapolate_trend='freq')\n",
        "plt.rcParams.update({'figure.figsize': (5,10)})\n",
        "result_add.plot().suptitle('Additive Decompose', fontsize=10)\n",
        "plt.show()"
      ],
      "metadata": {
        "id": "X1mpAZ-HSXKH"
      },
      "execution_count": null,
      "outputs": []
    },
    {
      "cell_type": "code",
      "source": [
        "# Extract the Components\n",
        "# Actual Values = Addition of (Seasonal * Trend * Resid)\n",
        "df_reconstructed = pd.concat([result_add.seasonal, result_add.trend, result_add.resid, result_add.observed], axis=1)\n",
        "df_reconstructed.columns = ['seas', 'trend', 'resid', 'actual_values']\n",
        "df_reconstructed.head()"
      ],
      "metadata": {
        "id": "dWgYJuPibnXJ"
      },
      "execution_count": null,
      "outputs": []
    },
    {
      "cell_type": "code",
      "source": [
        ""
      ],
      "metadata": {
        "id": "yO_sMDUIcD9k"
      },
      "execution_count": null,
      "outputs": []
    }
  ]
}